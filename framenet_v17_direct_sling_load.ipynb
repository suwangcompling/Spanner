{
 "cells": [
  {
   "cell_type": "code",
   "execution_count": null,
   "metadata": {},
   "outputs": [],
   "source": [
    "## What's done here\n",
    "\n",
    "\"\"\"\n",
    "* Step 1. Converted frame1.7 raw data into a normalized form as follows:\n",
    "      {'argInfoList': [(u\"with foster parents duped into incubating the cuckoo 's egg\", # text\n",
    "                        'Other', # frame name\n",
    "                         5, # left word index\n",
    "                         15)], # right word index\n",
    "       'targetInfo': (u'empath', 'Others_situation_as_stimulus', 4, 5), # same as above\n",
    "       'text': u\"It is easy to empathize with foster parents duped into incubating the cuckoo 's eggs .\"} \n",
    "          # sentence text\n",
    " \n",
    "* Step 2. Following Michael's tutorial at https://github.com/google/sling/issues/82 to directly read the\n",
    "          corpus into commons, docschema, and created a .rec file from there.\n",
    "\"\"\""
   ]
  },
  {
   "cell_type": "code",
   "execution_count": 1,
   "metadata": {},
   "outputs": [],
   "source": [
    "import dill\n",
    "import sling\n",
    "from nltk.corpus import framenet as fn\n",
    "from nltk.stem.porter import PorterStemmer\n",
    "\n",
    "porter_stemmer = PorterStemmer()\n",
    "def lemmatize(word):\n",
    "    return porter_stemmer.stem(word)\n",
    "\n",
    "from collections import defaultdict"
   ]
  },
  {
   "cell_type": "code",
   "execution_count": 6,
   "metadata": {},
   "outputs": [],
   "source": [
    "# lex2frame = dill.load(open(\"/usr/local/google/home/wangsu/SLING_DEV/temp/lex2frame.p\", 'rb'))\n",
    "# lexSet = set(lex2frame.keys())"
   ]
  },
  {
   "cell_type": "markdown",
   "metadata": {},
   "source": [
    "### Save frame sentences (annotated)"
   ]
  },
  {
   "cell_type": "code",
   "execution_count": 8,
   "metadata": {},
   "outputs": [],
   "source": [
    "fS1 = fn.sents()[0]\n",
    "fS2 = fn.sents()[1]"
   ]
  },
  {
   "cell_type": "code",
   "execution_count": 3,
   "metadata": {
    "scrolled": true
   },
   "outputs": [
    {
     "data": {
      "text/plain": [
       "[u'text',\n",
       " u'frame',\n",
       " u'LU',\n",
       " u'_ascii',\n",
       " u'frameAnnotation',\n",
       " u'Other',\n",
       " u'FE',\n",
       " u'POS_tagset',\n",
       " u'Sent',\n",
       " u'PT',\n",
       " 'corpID',\n",
       " u'POS',\n",
       " u'Verb',\n",
       " u'_type',\n",
       " u'Target',\n",
       " 'sentNo',\n",
       " u'annotationSet',\n",
       " u'GF',\n",
       " 'aPos',\n",
       " 'ID',\n",
       " 'docID',\n",
       " 'paragNo']"
      ]
     },
     "execution_count": 3,
     "metadata": {},
     "output_type": "execute_result"
    }
   ],
   "source": [
    "fS1.keys()"
   ]
  },
  {
   "cell_type": "code",
   "execution_count": 4,
   "metadata": {},
   "outputs": [
    {
     "data": {
      "text/plain": [
       "u\"It is easy to empathize with foster parents duped into incubating the cuckoo 's eggs .\""
      ]
     },
     "execution_count": 4,
     "metadata": {},
     "output_type": "execute_result"
    }
   ],
   "source": [
    "fS1['text']"
   ]
  },
  {
   "cell_type": "code",
   "execution_count": 5,
   "metadata": {},
   "outputs": [
    {
     "data": {
      "text/plain": [
       "[(14, 23)]"
      ]
     },
     "execution_count": 5,
     "metadata": {},
     "output_type": "execute_result"
    }
   ],
   "source": [
    "fS1['Target']"
   ]
  },
  {
   "cell_type": "code",
   "execution_count": 7,
   "metadata": {},
   "outputs": [
    {
     "data": {
      "text/plain": [
       "([(24, 84, 'Other')], {'Experiencer': 'CNI'})"
      ]
     },
     "execution_count": 7,
     "metadata": {},
     "output_type": "execute_result"
    }
   ],
   "source": [
    "fS1['FE']"
   ]
  },
  {
   "cell_type": "code",
   "execution_count": 9,
   "metadata": {
    "scrolled": true
   },
   "outputs": [
    {
     "data": {
      "text/plain": [
       "([(0, 5, 'Experiencer'), (22, 31, 'Situation')], {})"
      ]
     },
     "execution_count": 9,
     "metadata": {},
     "output_type": "execute_result"
    }
   ],
   "source": [
    "fS2['FE']"
   ]
  },
  {
   "cell_type": "code",
   "execution_count": 57,
   "metadata": {},
   "outputs": [],
   "source": [
    "def char_span_to_word_span(text, leftCharIndex, rightCharIndex):\n",
    "    \"\"\"Convert char span to word span index.\"\"\"\n",
    "    token = text[leftCharIndex:rightCharIndex].split()\n",
    "    textSplit = text.split()\n",
    "    leftWordIndex, rightWordIndex = textSplit.index(token[0]), textSplit.index(token[-1])+1\n",
    "    return leftWordIndex, rightWordIndex\n",
    "\n",
    "def get_frame_sent_info():\n",
    "    \"\"\"Get a list of dictionaries where each contains frame annotation information.\n",
    "    \n",
    "    Example entry:\n",
    "    {'argInfoList': [(u\"with foster parents duped into incubating the cuckoo 's egg\",\n",
    "     'Other', 5, 15)], # tuple: text (target or arg), frame name, left word index, right word index.\n",
    "     'targetInfo': (u'empath', 'Others_situation_as_stimulus', 4, 5),\n",
    "     'text': u\"It is easy to empathize with foster parents duped into incubating the cuckoo 's eggs .\"}\n",
    "    \"\"\"\n",
    "    sentInfoList = []\n",
    "    errorLog = []\n",
    "    for sentIndex, sent in enumerate(fn.sents()):\n",
    "        if sentIndex!=0 and sentIndex%1000==0:\n",
    "            print \"... processed %d sentences\" % (sentIndex)\n",
    "        try:\n",
    "            text = sent['text']\n",
    "            leftTargetCharIndex, rightTargetCharIndex = sent['Target'][0]\n",
    "            target = lemmatize(text[leftTargetCharIndex:rightTargetCharIndex])\n",
    "            targetFrame = sent['frame']['name']\n",
    "            leftTargetWordIndex, rightTargetWordIndex = char_span_to_word_span(text, \n",
    "                                                                               leftTargetCharIndex, \n",
    "                                                                               rightTargetCharIndex)\n",
    "            targetInfo = (target, targetFrame, leftTargetWordIndex, rightTargetWordIndex)\n",
    "            argInfoList = []\n",
    "            for leftArgCharIndex,rightArgCharIndex,frame in sent['FE'][0]: # use the frame actually read.\n",
    "                arg = lemmatize(text[leftArgCharIndex:rightArgCharIndex])\n",
    "                argFrame = frame\n",
    "                leftArgWordIndex, rightArgWordIndex = char_span_to_word_span(text,\n",
    "                                                                             leftArgCharIndex,\n",
    "                                                                             rightArgCharIndex)\n",
    "                argInfo = (arg, argFrame, leftArgWordIndex, rightArgWordIndex)\n",
    "                argInfoList.append(argInfo)\n",
    "            sentInfo = {}\n",
    "            sentInfo['text'] = text\n",
    "            sentInfo['targetInfo'] = targetInfo\n",
    "            sentInfo['argInfoList'] = argInfoList\n",
    "            sentInfoList.append(sentInfo)\n",
    "        except:\n",
    "            errorLog.append(sentIndex)\n",
    "    return sentInfoList, errorLog"
   ]
  },
  {
   "cell_type": "code",
   "execution_count": 83,
   "metadata": {
    "scrolled": true
   },
   "outputs": [],
   "source": [
    "%%time\n",
    "\n",
    "frameV17SentInfoList, errorLog = get_frame_sent_info()"
   ]
  },
  {
   "cell_type": "code",
   "execution_count": 84,
   "metadata": {},
   "outputs": [],
   "source": [
    "# a # 100 samples"
   ]
  },
  {
   "cell_type": "code",
   "execution_count": 59,
   "metadata": {},
   "outputs": [],
   "source": [
    "frameSentSavePath = \"/usr/local/google/home/wangsu/SLING_DEV/temp/sentInfo.p\"\n",
    "dill.dump(frameV17SentInfoList, open(frameSentSavePath, 'wb'))"
   ]
  },
  {
   "cell_type": "code",
   "execution_count": 60,
   "metadata": {},
   "outputs": [
    {
     "data": {
      "text/plain": [
       "{'argInfoList': [(u\"with foster parents duped into incubating the cuckoo 's egg\",\n",
       "   'Other',\n",
       "   5,\n",
       "   15)],\n",
       " 'targetInfo': (u'empath', 'Others_situation_as_stimulus', 4, 5),\n",
       " 'text': u\"It is easy to empathize with foster parents duped into incubating the cuckoo 's eggs .\"}"
      ]
     },
     "execution_count": 60,
     "metadata": {},
     "output_type": "execute_result"
    }
   ],
   "source": [
    "frameV17SentInfoList[0]"
   ]
  },
  {
   "cell_type": "markdown",
   "metadata": {},
   "source": [
    "### Create FrameV17 annotated corpus"
   ]
  },
  {
   "cell_type": "code",
   "execution_count": 69,
   "metadata": {},
   "outputs": [
    {
     "data": {
      "text/plain": [
       "{'argInfoList': [(u\"with foster parents duped into incubating the cuckoo 's egg\",\n",
       "   'Other',\n",
       "   5,\n",
       "   15)],\n",
       " 'targetInfo': (u'empath', 'Others_situation_as_stimulus', 4, 5),\n",
       " 'text': u\"It is easy to empathize with foster parents duped into incubating the cuckoo 's eggs .\"}"
      ]
     },
     "execution_count": 69,
     "metadata": {},
     "output_type": "execute_result"
    }
   ],
   "source": [
    "frameV17SentInfoList[0]"
   ]
  },
  {
   "cell_type": "code",
   "execution_count": 80,
   "metadata": {},
   "outputs": [],
   "source": [
    "def create_annotations_from_sent_info(sentInfoList, docPath):\n",
    "    \"\"\"Create a sling.Store object from corpus.\n",
    "    \n",
    "    NOTE: the stuff's pretty fast (although it's not directly picklable).\n",
    "    NOTE: tutorial source: https://github.com/google/sling/issues/82\n",
    "    \"\"\"\n",
    "    # Create commons Store\n",
    "    print \"Starting creation of commons Store ...\\n\"\n",
    "    commons = sling.Store()\n",
    "    docschema = sling.DocumentSchema(commons)\n",
    "\n",
    "    isaFrame = commons[\"isa\"]\n",
    "    argFrame = commons[\"/saft/arg\"]\n",
    "\n",
    "    count = 0\n",
    "    for sentInfo in sentInfoList:\n",
    "        count += 1\n",
    "        if count%10000==0:\n",
    "            print \"... processed %d sentInfo entries\" % (count)\n",
    "        _ = commons[\"/fn/\"+sentInfo['targetInfo'][1]]\n",
    "        for arg,frame,leftWordIndex,rightWordIndex in sentInfo['argInfoList']:\n",
    "            _ = commons[\"/fn/\"+frame]\n",
    "    print \"\\nIn total %d sentInfo entries are processed!\\n\\n\" % (count)\n",
    "\n",
    "    commons.freeze()\n",
    "    \n",
    "    # Record docschema\n",
    "    print \"Starting annotations ...\\n\"\n",
    "    out = sling.RecordWriter(docPath)\n",
    "    recNo = 0\n",
    "    for sentInfo in sentInfoList:\n",
    "        store = sling.Store(commons)\n",
    "        doc = sling.tokenize(str(sentInfo['text'].encode('utf-8')), store=store, schema=docschema)\n",
    "        currArgFrameList = [store.frame({isaFrame:argFrame}) for _ in sentInfo['argInfoList']]\n",
    "        currTargetFrameDict = {isaFrame:sentInfo['targetInfo'][1]}\n",
    "        for currArgFrame in currArgFrameList:\n",
    "            currTargetFrameDict[isaFrame] = currArgFrame\n",
    "        currTargetFrame = store.frame(currTargetFrameDict)\n",
    "        leftWordIndex, rightWordIndex = sentInfo['targetInfo'][2],sentInfo['targetInfo'][3]\n",
    "        doc.add_mention(leftWordIndex,rightWordIndex).evoke(currTargetFrame)\n",
    "        for currArgFrame,(_,_,leftWordIndex,rightWordIndex) in zip(currArgFrameList,sentInfo['argInfoList']):\n",
    "            doc.add_mention(leftWordIndex,rightWordIndex).evoke(currArgFrame)\n",
    "        doc.update()\n",
    "        out.write(str(recNo), doc.frame.data(binary=True))\n",
    "        recNo += 1\n",
    "        if recNo%10000==0:\n",
    "            print \"... processed %d entries annotated\" % (recNo)\n",
    "    out.close()\n",
    "    print \"\\nDocumentSchema creation done!\\n\\n\"  "
   ]
  },
  {
   "cell_type": "code",
   "execution_count": 81,
   "metadata": {},
   "outputs": [],
   "source": [
    "docPath = \"/usr/local/google/home/wangsu/SLING_DEV/temp/fn_v17.rec\""
   ]
  },
  {
   "cell_type": "code",
   "execution_count": 82,
   "metadata": {
    "scrolled": true
   },
   "outputs": [
    {
     "name": "stdout",
     "output_type": "stream",
     "text": [
      "Starting creation of commons Store ...\n",
      "\n",
      "... processed 10000 sentInfo entries\n",
      "... processed 20000 sentInfo entries\n",
      "... processed 30000 sentInfo entries\n",
      "... processed 40000 sentInfo entries\n",
      "... processed 50000 sentInfo entries\n",
      "... processed 60000 sentInfo entries\n",
      "... processed 70000 sentInfo entries\n",
      "... processed 80000 sentInfo entries\n",
      "... processed 90000 sentInfo entries\n",
      "... processed 100000 sentInfo entries\n",
      "... processed 110000 sentInfo entries\n",
      "... processed 120000 sentInfo entries\n",
      "... processed 130000 sentInfo entries\n",
      "... processed 140000 sentInfo entries\n",
      "... processed 150000 sentInfo entries\n",
      "... processed 160000 sentInfo entries\n",
      "... processed 170000 sentInfo entries\n",
      "... processed 180000 sentInfo entries\n",
      "... processed 190000 sentInfo entries\n",
      "... processed 200000 sentInfo entries\n",
      "\n",
      "In total 200575 sentInfo entries are processed!\n",
      "\n",
      "\n",
      "Starting annotations ...\n",
      "\n",
      "... processed 10000 entries annotated\n",
      "... processed 20000 entries annotated\n",
      "... processed 30000 entries annotated\n",
      "... processed 40000 entries annotated\n",
      "... processed 50000 entries annotated\n",
      "... processed 60000 entries annotated\n",
      "... processed 70000 entries annotated\n",
      "... processed 80000 entries annotated\n",
      "... processed 90000 entries annotated\n",
      "... processed 100000 entries annotated\n",
      "... processed 110000 entries annotated\n",
      "... processed 120000 entries annotated\n",
      "... processed 130000 entries annotated\n",
      "... processed 140000 entries annotated\n",
      "... processed 150000 entries annotated\n",
      "... processed 160000 entries annotated\n",
      "... processed 170000 entries annotated\n",
      "... processed 180000 entries annotated\n",
      "... processed 190000 entries annotated\n",
      "... processed 200000 entries annotated\n",
      "\n",
      "DocumentSchema creation done!\n",
      "\n",
      "\n",
      "CPU times: user 23.6 s, sys: 1.07 s, total: 24.7 s\n",
      "Wall time: 25.1 s\n"
     ]
    }
   ],
   "source": [
    "%%time\n",
    "\n",
    "create_annotations_from_sent_info(frameV17SentInfoList, docPath)"
   ]
  },
  {
   "cell_type": "code",
   "execution_count": null,
   "metadata": {},
   "outputs": [],
   "source": []
  },
  {
   "cell_type": "code",
   "execution_count": null,
   "metadata": {},
   "outputs": [],
   "source": []
  },
  {
   "cell_type": "code",
   "execution_count": null,
   "metadata": {},
   "outputs": [],
   "source": []
  },
  {
   "cell_type": "code",
   "execution_count": null,
   "metadata": {},
   "outputs": [],
   "source": []
  },
  {
   "cell_type": "code",
   "execution_count": null,
   "metadata": {},
   "outputs": [],
   "source": []
  },
  {
   "cell_type": "code",
   "execution_count": null,
   "metadata": {},
   "outputs": [],
   "source": []
  },
  {
   "cell_type": "code",
   "execution_count": null,
   "metadata": {},
   "outputs": [],
   "source": []
  },
  {
   "cell_type": "code",
   "execution_count": null,
   "metadata": {},
   "outputs": [],
   "source": []
  },
  {
   "cell_type": "code",
   "execution_count": null,
   "metadata": {},
   "outputs": [],
   "source": []
  },
  {
   "cell_type": "code",
   "execution_count": null,
   "metadata": {},
   "outputs": [],
   "source": []
  },
  {
   "cell_type": "code",
   "execution_count": null,
   "metadata": {},
   "outputs": [],
   "source": []
  },
  {
   "cell_type": "code",
   "execution_count": null,
   "metadata": {},
   "outputs": [],
   "source": []
  },
  {
   "cell_type": "code",
   "execution_count": null,
   "metadata": {},
   "outputs": [],
   "source": []
  }
 ],
 "metadata": {
  "kernelspec": {
   "display_name": "Python 2",
   "language": "python",
   "name": "python2"
  },
  "language_info": {
   "codemirror_mode": {
    "name": "ipython",
    "version": 2
   },
   "file_extension": ".py",
   "mimetype": "text/x-python",
   "name": "python",
   "nbconvert_exporter": "python",
   "pygments_lexer": "ipython2",
   "version": "2.7.13"
  }
 },
 "nbformat": 4,
 "nbformat_minor": 2
}
